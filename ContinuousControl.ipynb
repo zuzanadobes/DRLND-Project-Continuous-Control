{
 "cells": [
  {
   "cell_type": "markdown",
   "metadata": {},
   "source": [
    "# Continuous Control\n",
    "\n",
    "---\n",
    "\n",
    "In this notebook, you will learn how to use the Unity ML-Agents environment for the second project of the [Deep Reinforcement Learning Nanodegree](https://www.udacity.com/course/deep-reinforcement-learning-nanodegree--nd893) program.\n",
    "\n",
    "### 1. Start the Environment\n",
    "\n",
    "We begin by importing the necessary packages.  If the code cell below returns an error, please revisit the project instructions to double-check that you have installed [Unity ML-Agents](https://github.com/Unity-Technologies/ml-agents/blob/master/docs/Installation.md) and [NumPy](http://www.numpy.org/)."
   ]
  },
  {
   "cell_type": "markdown",
   "metadata": {},
   "source": [
    "Adapted from ddpg implementation from : https://github.com/tommytracey/DeepRL-P2-Continuous-Control/blob/master/Continuous_Control_v8.ipynb"
   ]
  },
  {
   "cell_type": "code",
   "execution_count": null,
   "metadata": {},
   "outputs": [],
   "source": [
    "# when running in Udacity workspace\n",
    "#!pip -q install ./python"
   ]
  },
  {
   "cell_type": "code",
   "execution_count": 2,
   "metadata": {},
   "outputs": [],
   "source": [
    "from ddpg_agent import Agent\n",
    "from collections import deque\n",
    "import matplotlib.pyplot as plt\n",
    "import numpy as np\n",
    "import random\n",
    "import time\n",
    "import torch\n",
    "from unityagents import UnityEnvironment\n",
    "\n",
    "%matplotlib inline"
   ]
  },
  {
   "cell_type": "markdown",
   "metadata": {},
   "source": [
    "Next, we will start the environment!  **_Before running the code cell below_**, change the `file_name` parameter to match the location of the Unity environment that you downloaded.\n",
    "\n",
    "- **Mac**: `\"path/to/Reacher.app\"`\n",
    "- **Windows** (x86): `\"path/to/Reacher_Windows_x86/Reacher.exe\"`\n",
    "- **Windows** (x86_64): `\"path/to/Reacher_Windows_x86_64/Reacher.exe\"`\n",
    "- **Linux** (x86): `\"path/to/Reacher_Linux/Reacher.x86\"`\n",
    "- **Linux** (x86_64): `\"path/to/Reacher_Linux/Reacher.x86_64\"`\n",
    "- **Linux** (x86, headless): `\"path/to/Reacher_Linux_NoVis/Reacher.x86\"`\n",
    "- **Linux** (x86_64, headless): `\"path/to/Reacher_Linux_NoVis/Reacher.x86_64\"`\n",
    "\n",
    "For instance, if you are using a Mac, then you downloaded `Reacher.app`.  If this file is in the same folder as the notebook, then the line below should appear as follows:\n",
    "```\n",
    "env = UnityEnvironment(file_name=\"Reacher.app\")\n",
    "```"
   ]
  },
  {
   "cell_type": "code",
   "execution_count": 3,
   "metadata": {},
   "outputs": [
    {
     "name": "stderr",
     "output_type": "stream",
     "text": [
      "INFO:unityagents:\n",
      "'Academy' started successfully!\n",
      "Unity Academy name: Academy\n",
      "        Number of Brains: 1\n",
      "        Number of External Brains : 1\n",
      "        Lesson number : 0\n",
      "        Reset Parameters :\n",
      "\t\tgoal_speed -> 1.0\n",
      "\t\tgoal_size -> 5.0\n",
      "Unity brain name: ReacherBrain\n",
      "        Number of Visual Observations (per agent): 0\n",
      "        Vector Observation space type: continuous\n",
      "        Vector Observation space size (per agent): 33\n",
      "        Number of stacked Vector Observation: 1\n",
      "        Vector Action space type: continuous\n",
      "        Vector Action space size (per agent): 4\n",
      "        Vector Action descriptions: , , , \n"
     ]
    }
   ],
   "source": [
    "## when running locally\n",
    "env = UnityEnvironment(file_name='Reacher_Windows_x86_64/Reacher.exe')\n",
    "\n",
    "## when running via AWS EC2\n",
    "# env = UnityEnvironment(file_name='Reacher_Linux_NoVis/Reacher.x86_64')\n",
    "\n",
    "## when running in Udacity workspace\n",
    "# env = UnityEnvironment(file_name='/data/Reacher_Linux_NoVis/Reacher.x86_64')"
   ]
  },
  {
   "cell_type": "markdown",
   "metadata": {},
   "source": [
    "Environments contain **_brains_** which are responsible for deciding the actions of their associated agents. Here we check for the first brain available, and set it as the default brain we will be controlling from Python."
   ]
  },
  {
   "cell_type": "code",
   "execution_count": 4,
   "metadata": {},
   "outputs": [],
   "source": [
    "# get the default Brain that will handle all the agents\n",
    "brain_name = env.brain_names[0]\n",
    "brain = env.brains[brain_name]"
   ]
  },
  {
   "cell_type": "markdown",
   "metadata": {},
   "source": [
    "### 2. Examine the State and Action Spaces\n",
    "\n",
    "In this environment, a double-jointed arm can move to target locations. A reward of `+0.1` is provided for each step that the agent's hand is in the goal location. Thus, the goal of your agent is to maintain its position at the target location for as many time steps as possible.\n",
    "\n",
    "The observation space consists of `33` variables corresponding to position, rotation, velocity, and angular velocities of the arm.  Each action is a vector with four numbers, corresponding to torque applicable to two joints.  Every entry in the action vector must be a number between `-1` and `1`.\n",
    "\n",
    "Run the code cell below to print some information about the environment."
   ]
  },
  {
   "cell_type": "code",
   "execution_count": 5,
   "metadata": {},
   "outputs": [
    {
     "name": "stdout",
     "output_type": "stream",
     "text": [
      "Number of agents: 20\n",
      "Size of each action: 4\n",
      "There are 20 agents. Each observes a state with length: 33\n",
      "The state for the first agent looks like: [ 0.00000000e+00 -4.00000000e+00  0.00000000e+00  1.00000000e+00\n",
      " -0.00000000e+00 -0.00000000e+00 -4.37113883e-08  0.00000000e+00\n",
      "  0.00000000e+00  0.00000000e+00  0.00000000e+00  0.00000000e+00\n",
      "  0.00000000e+00  0.00000000e+00 -1.00000000e+01  0.00000000e+00\n",
      "  1.00000000e+00 -0.00000000e+00 -0.00000000e+00 -4.37113883e-08\n",
      "  0.00000000e+00  0.00000000e+00  0.00000000e+00  0.00000000e+00\n",
      "  0.00000000e+00  0.00000000e+00  5.75471878e+00 -1.00000000e+00\n",
      "  5.55726624e+00  0.00000000e+00  1.00000000e+00  0.00000000e+00\n",
      " -1.68164849e-01]\n"
     ]
    }
   ],
   "source": [
    "# reset the environment\n",
    "env_info = env.reset(train_mode=True)[brain_name]\n",
    "\n",
    "# number of agents\n",
    "n_agents = len(env_info.agents)\n",
    "print('Number of agents:', n_agents)\n",
    "\n",
    "# size of each action\n",
    "action_size = brain.vector_action_space_size\n",
    "print('Size of each action:', action_size)\n",
    "\n",
    "# examine the state space \n",
    "states = env_info.vector_observations\n",
    "state_size = states.shape[1]\n",
    "print('There are {} agents. Each observes a state with length: {}'.format(states.shape[0], state_size))\n",
    "print('The state for the first agent looks like:', states[0])"
   ]
  },
  {
   "cell_type": "markdown",
   "metadata": {},
   "source": [
    "### 3. Take Random Actions in the Environment\n",
    "\n",
    "In the next code cell, you will learn how to use the Python API to control the agent and receive feedback from the environment.\n",
    "\n",
    "Once this cell is executed, you will watch the agent's performance, if it selects an action at random with each time step.  A window should pop up that allows you to observe the agent, as it moves through the environment.  \n",
    "\n",
    "Of course, as part of the project, you'll have to change the code so that the agent is able to use its experience to gradually choose better actions when interacting with the environment!"
   ]
  },
  {
   "cell_type": "raw",
   "metadata": {},
   "source": [
    "env_info = env.reset(train_mode=False)[brain_name]     # reset the environment    \n",
    "states = env_info.vector_observations                  # get the current state (for each agent)\n",
    "scores = np.zeros(n_agents)                          # initialize the score (for each agent)\n",
    "while True:\n",
    "    actions = np.random.randn(n_agents, action_size) # select an action (for each agent)\n",
    "    actions = np.clip(actions, -1, 1)                  # all actions between -1 and 1\n",
    "    env_info = env.step(actions)[brain_name]           # send all actions to tne environment\n",
    "    next_states = env_info.vector_observations         # get next state (for each agent)\n",
    "    rewards = env_info.rewards                         # get reward (for each agent)\n",
    "    dones = env_info.local_done                               # see if episode finished\n",
    "    scores += env_info.rewards                         # update the score (for each agent)\n",
    "    states = next_states                               # roll over states to next time step\n",
    "    if np.any(dones):                                  # exit loop if episode finished\n",
    "        break\n",
    "print('Total score (averaged over agents) this episode: {}'.format(np.mean(scores)))"
   ]
  },
  {
   "cell_type": "markdown",
   "metadata": {},
   "source": [
    "### 4. It's Your Turn!\n",
    "\n",
    "Now it's your turn to train your own agent to solve the environment!  When training the environment, set `train_mode=True`, so that the line for resetting the environment looks like the following:\n",
    "```python\n",
    "env_info = env.reset(train_mode=True)[brain_name]\n",
    "```\n",
    "Code adapted from https://github.com/tommytracey/DeepRL-P2-Continuous-Control"
   ]
  },
  {
   "cell_type": "code",
   "execution_count": 6,
   "metadata": {},
   "outputs": [],
   "source": [
    "#env.reset(train_mode=True)[brain_name]\n",
    "#env.close()"
   ]
  },
  {
   "cell_type": "code",
   "execution_count": 7,
   "metadata": {},
   "outputs": [],
   "source": [
    "# Defaults for our project have been selected.\n",
    "def ddpg(n_episodes=500, max_t=1000, solved_score=30.0, consec_episodes=100, train_mode=True, learn_every=20, num_learn=10, \n",
    "         actor_path='results_actor_ckpt.pth', critic_path='results_critic_ckpt.pth'):    \n",
    "    \"\"\"Deep Deterministic Policy Gradient (DDPG)\n",
    "    \n",
    "    Params\n",
    "    ======\n",
    "        n_episodes (int)      : maximum number of training episodes\n",
    "        max_t (int)           : maximum number of timesteps per episode\n",
    "        train (bool)     : if 'True' set environment to training mode\n",
    "        solved_score (float)  : min average score over consecutive episodes\n",
    "        consec_episodes (int) : number of consecutive episodes used to calculate score\n",
    "        print_every (int)     : interval to display results\n",
    "        actor_path (str)      : directory to store actor network weights\n",
    "        critic_path (str)     : directory to store critic network weights\n",
    "\n",
    "    \"\"\"\n",
    "    mean_episode_scores = []                               # list of mean scores from each episode\n",
    "    min_episode_scores = []                                # list of lowest scores from each episode\n",
    "    max_episode_scores = []                                # list of highest scores from each episode\n",
    "    best_score = -np.inf                           # floating point representation of negative infinity.\n",
    "    mean_scores_window = deque(maxlen=consec_episodes)  # mean scores from M most recent episodes \n",
    "    moving_averages = []                               # list of moving averages    \n",
    "    #time_steps = 20 - handled in Agent\n",
    "    #update = 10 - handled in Agent\n",
    "    \n",
    "    # The TIME_STEP interval is a part of the agent typically it is set to 20\n",
    "    # The UPDATE frequency is also part of the agent code and is typically set to 10\n",
    "    \n",
    "    #train_mode = True\n",
    "    #env_info = env.reset(train_mode=train_mode)[brain_name]\n",
    "    #states = env_info.vector_observations      \n",
    "        \n",
    "    for i_episode in range(1, n_episodes+1):\n",
    "        start_time = time.time()\n",
    "        # Reset the environment, states and scores  \n",
    "        env_info = env.reset(train_mode=True)[brain_name]\n",
    "        states = env_info.vector_observations\n",
    "        scores = np.zeros(n_agents) # score for each agent within episode   \n",
    "        agent.reset()\n",
    "        for t in range(max_t):\n",
    "            # A single step of interaction with the environment for each agent\n",
    "            actions = agent.act(states,add_noise=True)\n",
    "            # take action step in and update in the environment and get the next state\n",
    "            env_info = env.step(actions)[brain_name]\n",
    "            next_states = env_info.vector_observations         \n",
    "            rewards = env_info.rewards                         \n",
    "            dones = env_info.local_done     \n",
    "            # Perform step of training \n",
    "            # Save experience to replay buffer, perform learning step at defined interval\n",
    "            # The memory update step takes place actually inside the agent so its easy to parametrize it there\n",
    "            #agent.step(states=states, actions=actions, rewards=rewards, next_states=next_states, dones=dones)\n",
    "            if train_mode:\n",
    "                # try next:\n",
    "                # agent.step_multi(states, actions, rewards, next_states, dones, t)\n",
    "                \n",
    "                for state, action, reward, next_state, done in zip(states, actions, rewards, next_states, dones):\n",
    "                    agent.step(state, action, reward, next_state, done) # send actions to the agent\n",
    "                scores += env_info.rewards   #?+= np.array(rewards)  # scores += np.array(rewards)\n",
    "                # for state, action, reward, next_state, done in zip(states, actions, rewards, next_states, dones):\n",
    "                # agent.step_multi(state, action, reward, next_state, done, t)           \n",
    "                # Sum up rewards separately for each agent\n",
    "                \n",
    "                # Prepare for next time step by making new states become the current states\n",
    "                states = next_states  \n",
    "                \n",
    "                if t%learn_every == 0:\n",
    "                    for _ in range(num_learn):\n",
    "                        agent.start_learn()\n",
    "            # Check if any of the agents has finished.  \n",
    "            # Exit loop when episode ends\n",
    "            # Keep collected parts in the batch the same size.\n",
    "            if np.any(dones):\n",
    "                break\n",
    "        time_taken = time.time() - start_time\n",
    "        min_episode_scores.append(np.min(scores))          # save episode min  score for agent\n",
    "        max_episode_scores.append(np.max(scores))          # save episode max score for agent        \n",
    "        mean_episode_scores.append(np.mean(scores))          # save episode mean score for the episode\n",
    "        mean_scores_window.append(mean_episode_scores[-1])    # save mean score to window\n",
    "        moving_averages.append(np.mean(mean_scores_window))  # save moving average\n",
    "        \n",
    "         #if i_episode % print_every == 0:\n",
    "        print('\\rEpisode {} ({} sec)  -- \\tMin Scores: {:.1f}\\tMax Scores: {:.1f}\\tMean Scores: {:.1f}\\tMoving Average: {:.1f}'.format(\\\n",
    "                  i_episode, round(time_taken),min_episode_scores[-1], max_episode_scores[-1], mean_episode_scores[-1], moving_averages[-1]))\n",
    "        \n",
    "        if train_mode and mean_scores_window[-1] > best_score:\n",
    "            torch.save(agent.actor_local.state_dict(), actor_path)\n",
    "            torch.save(agent.critic_local.state_dict(), critic_path)\n",
    "                  \n",
    "        if moving_averages[-1] >= solved_score and i_episode >= consec_episodes:\n",
    "            print('\\nEnvironment SOLVED in {} episodes!\\tMoving Average ={:.1f} over last {} episodes'.format(\\\n",
    "                                    i_episode-consec_episodes, moving_averages[-1], consec_episodes))            \n",
    "            if train_mode:\n",
    "                torch.save(agent.actor_local.state_dict(), actor_path)\n",
    "                torch.save(agent.critic_local.state_dict(), critic_path)  \n",
    "            break\n",
    "    return mean_episode_scores, moving_averages"
   ]
  },
  {
   "cell_type": "code",
   "execution_count": 8,
   "metadata": {
    "scrolled": true
   },
   "outputs": [
    {
     "name": "stderr",
     "output_type": "stream",
     "text": [
      "D:\\Users\\dobes.zuzana\\AppData\\Local\\Continuum\\anaconda3\\envs\\drlndold\\lib\\site-packages\\torch\\nn\\functional.py:1374: UserWarning: nn.functional.tanh is deprecated. Use torch.tanh instead.\n",
      "  warnings.warn(\"nn.functional.tanh is deprecated. Use torch.tanh instead.\")\n",
      "D:\\Users\\dobes.zuzana\\Analytics\\Udacity\\project 2 - Continuous Control\\ddpg_agent.py:105: UserWarning: torch.nn.utils.clip_grad_norm is now deprecated in favor of torch.nn.utils.clip_grad_norm_.\n",
      "  torch.nn.utils.clip_grad_norm(self.critic_local.parameters(), 1)\n"
     ]
    },
    {
     "name": "stdout",
     "output_type": "stream",
     "text": [
      "Episode 1 (166 sec)  -- \tMin Scores: 0.0\tMax Scores: 1.5\tMean Scores: 0.6\tMoving Average: 0.6\n",
      "Episode 2 (178 sec)  -- \tMin Scores: 0.1\tMax Scores: 3.2\tMean Scores: 0.9\tMoving Average: 0.7\n",
      "Episode 3 (177 sec)  -- \tMin Scores: 0.3\tMax Scores: 1.9\tMean Scores: 1.0\tMoving Average: 0.8\n",
      "Episode 4 (176 sec)  -- \tMin Scores: 0.3\tMax Scores: 2.3\tMean Scores: 1.0\tMoving Average: 0.9\n",
      "Episode 5 (177 sec)  -- \tMin Scores: 0.0\tMax Scores: 2.1\tMean Scores: 1.1\tMoving Average: 0.9\n",
      "Episode 6 (175 sec)  -- \tMin Scores: 0.5\tMax Scores: 2.6\tMean Scores: 1.5\tMoving Average: 1.0\n",
      "Episode 7 (176 sec)  -- \tMin Scores: 0.5\tMax Scores: 2.2\tMean Scores: 1.3\tMoving Average: 1.1\n",
      "Episode 8 (176 sec)  -- \tMin Scores: 0.0\tMax Scores: 3.4\tMean Scores: 1.6\tMoving Average: 1.1\n",
      "Episode 9 (178 sec)  -- \tMin Scores: 0.4\tMax Scores: 3.6\tMean Scores: 1.8\tMoving Average: 1.2\n",
      "Episode 10 (182 sec)  -- \tMin Scores: 0.1\tMax Scores: 6.9\tMean Scores: 2.5\tMoving Average: 1.3\n",
      "Episode 11 (182 sec)  -- \tMin Scores: 1.3\tMax Scores: 6.1\tMean Scores: 3.6\tMoving Average: 1.5\n",
      "Episode 12 (174 sec)  -- \tMin Scores: 0.9\tMax Scores: 6.0\tMean Scores: 3.6\tMoving Average: 1.7\n",
      "Episode 13 (180 sec)  -- \tMin Scores: 0.9\tMax Scores: 8.4\tMean Scores: 4.2\tMoving Average: 1.9\n",
      "Episode 14 (178 sec)  -- \tMin Scores: 0.8\tMax Scores: 9.0\tMean Scores: 4.4\tMoving Average: 2.1\n",
      "Episode 15 (180 sec)  -- \tMin Scores: 1.6\tMax Scores: 14.9\tMean Scores: 7.1\tMoving Average: 2.4\n",
      "Episode 16 (184 sec)  -- \tMin Scores: 3.2\tMax Scores: 20.5\tMean Scores: 11.3\tMoving Average: 3.0\n",
      "Episode 17 (181 sec)  -- \tMin Scores: 7.0\tMax Scores: 21.7\tMean Scores: 13.4\tMoving Average: 3.6\n",
      "Episode 18 (188 sec)  -- \tMin Scores: 4.0\tMax Scores: 23.6\tMean Scores: 16.0\tMoving Average: 4.3\n",
      "Episode 19 (187 sec)  -- \tMin Scores: 9.7\tMax Scores: 39.0\tMean Scores: 20.2\tMoving Average: 5.1\n",
      "Episode 20 (184 sec)  -- \tMin Scores: 6.7\tMax Scores: 25.7\tMean Scores: 17.6\tMoving Average: 5.7\n",
      "Episode 21 (183 sec)  -- \tMin Scores: 12.6\tMax Scores: 30.7\tMean Scores: 21.4\tMoving Average: 6.5\n",
      "Episode 22 (187 sec)  -- \tMin Scores: 13.0\tMax Scores: 29.3\tMean Scores: 22.6\tMoving Average: 7.2\n",
      "Episode 23 (192 sec)  -- \tMin Scores: 21.3\tMax Scores: 35.0\tMean Scores: 27.2\tMoving Average: 8.1\n",
      "Episode 24 (191 sec)  -- \tMin Scores: 21.2\tMax Scores: 36.1\tMean Scores: 28.2\tMoving Average: 8.9\n",
      "Episode 25 (185 sec)  -- \tMin Scores: 16.4\tMax Scores: 38.5\tMean Scores: 28.2\tMoving Average: 9.7\n",
      "Episode 26 (191 sec)  -- \tMin Scores: 23.6\tMax Scores: 39.5\tMean Scores: 32.9\tMoving Average: 10.6\n",
      "Episode 27 (189 sec)  -- \tMin Scores: 26.6\tMax Scores: 39.2\tMean Scores: 32.5\tMoving Average: 11.4\n",
      "Episode 28 (188 sec)  -- \tMin Scores: 26.3\tMax Scores: 38.5\tMean Scores: 33.1\tMoving Average: 12.2\n",
      "Episode 29 (191 sec)  -- \tMin Scores: 32.9\tMax Scores: 39.2\tMean Scores: 36.8\tMoving Average: 13.0\n",
      "Episode 30 (188 sec)  -- \tMin Scores: 30.1\tMax Scores: 39.4\tMean Scores: 35.7\tMoving Average: 13.8\n",
      "Episode 31 (193 sec)  -- \tMin Scores: 33.5\tMax Scores: 39.6\tMean Scores: 37.6\tMoving Average: 14.5\n",
      "Episode 32 (200 sec)  -- \tMin Scores: 33.1\tMax Scores: 39.4\tMean Scores: 37.5\tMoving Average: 15.3\n",
      "Episode 33 (212 sec)  -- \tMin Scores: 35.8\tMax Scores: 39.4\tMean Scores: 38.3\tMoving Average: 16.0\n",
      "Episode 34 (214 sec)  -- \tMin Scores: 37.3\tMax Scores: 39.6\tMean Scores: 38.6\tMoving Average: 16.6\n",
      "Episode 35 (216 sec)  -- \tMin Scores: 36.8\tMax Scores: 39.6\tMean Scores: 38.8\tMoving Average: 17.3\n",
      "Episode 36 (199 sec)  -- \tMin Scores: 35.4\tMax Scores: 39.4\tMean Scores: 37.8\tMoving Average: 17.8\n",
      "Episode 37 (200 sec)  -- \tMin Scores: 34.0\tMax Scores: 39.3\tMean Scores: 37.6\tMoving Average: 18.4\n",
      "Episode 38 (203 sec)  -- \tMin Scores: 34.8\tMax Scores: 38.9\tMean Scores: 36.8\tMoving Average: 18.9\n",
      "Episode 39 (201 sec)  -- \tMin Scores: 34.8\tMax Scores: 39.4\tMean Scores: 38.1\tMoving Average: 19.3\n",
      "Episode 40 (203 sec)  -- \tMin Scores: 33.4\tMax Scores: 38.7\tMean Scores: 37.5\tMoving Average: 19.8\n",
      "Episode 41 (206 sec)  -- \tMin Scores: 34.6\tMax Scores: 38.8\tMean Scores: 37.0\tMoving Average: 20.2\n",
      "Episode 42 (205 sec)  -- \tMin Scores: 36.1\tMax Scores: 39.5\tMean Scores: 38.5\tMoving Average: 20.7\n",
      "Episode 43 (213 sec)  -- \tMin Scores: 37.2\tMax Scores: 39.5\tMean Scores: 39.1\tMoving Average: 21.1\n",
      "Episode 44 (210 sec)  -- \tMin Scores: 36.0\tMax Scores: 39.5\tMean Scores: 37.4\tMoving Average: 21.5\n",
      "Episode 45 (216 sec)  -- \tMin Scores: 36.6\tMax Scores: 39.3\tMean Scores: 38.3\tMoving Average: 21.8\n",
      "Episode 46 (220 sec)  -- \tMin Scores: 35.0\tMax Scores: 39.5\tMean Scores: 37.8\tMoving Average: 22.2\n",
      "Episode 47 (222 sec)  -- \tMin Scores: 36.9\tMax Scores: 39.1\tMean Scores: 38.5\tMoving Average: 22.5\n",
      "Episode 48 (224 sec)  -- \tMin Scores: 37.4\tMax Scores: 39.6\tMean Scores: 38.6\tMoving Average: 22.9\n",
      "Episode 49 (212 sec)  -- \tMin Scores: 36.9\tMax Scores: 39.6\tMean Scores: 38.5\tMoving Average: 23.2\n",
      "Episode 50 (225 sec)  -- \tMin Scores: 36.5\tMax Scores: 39.5\tMean Scores: 37.9\tMoving Average: 23.5\n",
      "Episode 51 (212 sec)  -- \tMin Scores: 36.5\tMax Scores: 39.2\tMean Scores: 38.3\tMoving Average: 23.8\n",
      "Episode 52 (208 sec)  -- \tMin Scores: 37.0\tMax Scores: 39.5\tMean Scores: 39.0\tMoving Average: 24.1\n",
      "Episode 53 (221 sec)  -- \tMin Scores: 35.3\tMax Scores: 39.1\tMean Scores: 37.9\tMoving Average: 24.3\n",
      "Episode 54 (219 sec)  -- \tMin Scores: 36.8\tMax Scores: 39.3\tMean Scores: 38.3\tMoving Average: 24.6\n",
      "Episode 55 (221 sec)  -- \tMin Scores: 37.4\tMax Scores: 39.5\tMean Scores: 38.8\tMoving Average: 24.8\n",
      "Episode 56 (204 sec)  -- \tMin Scores: 35.3\tMax Scores: 39.6\tMean Scores: 38.3\tMoving Average: 25.1\n",
      "Episode 57 (201 sec)  -- \tMin Scores: 36.3\tMax Scores: 39.0\tMean Scores: 38.0\tMoving Average: 25.3\n",
      "Episode 58 (199 sec)  -- \tMin Scores: 37.2\tMax Scores: 39.5\tMean Scores: 38.7\tMoving Average: 25.5\n",
      "Episode 59 (199 sec)  -- \tMin Scores: 35.7\tMax Scores: 39.3\tMean Scores: 38.1\tMoving Average: 25.7\n",
      "Episode 60 (199 sec)  -- \tMin Scores: 36.7\tMax Scores: 39.3\tMean Scores: 38.2\tMoving Average: 25.9\n",
      "Episode 61 (199 sec)  -- \tMin Scores: 35.6\tMax Scores: 38.9\tMean Scores: 37.9\tMoving Average: 26.1\n",
      "Episode 62 (203 sec)  -- \tMin Scores: 35.8\tMax Scores: 38.7\tMean Scores: 37.7\tMoving Average: 26.3\n",
      "Episode 63 (203 sec)  -- \tMin Scores: 36.8\tMax Scores: 39.6\tMean Scores: 38.6\tMoving Average: 26.5\n",
      "Episode 64 (199 sec)  -- \tMin Scores: 37.1\tMax Scores: 39.5\tMean Scores: 38.4\tMoving Average: 26.7\n",
      "Episode 65 (198 sec)  -- \tMin Scores: 37.6\tMax Scores: 39.6\tMean Scores: 39.1\tMoving Average: 26.9\n",
      "Episode 66 (198 sec)  -- \tMin Scores: 36.5\tMax Scores: 39.6\tMean Scores: 38.8\tMoving Average: 27.1\n",
      "Episode 67 (199 sec)  -- \tMin Scores: 36.2\tMax Scores: 39.4\tMean Scores: 38.7\tMoving Average: 27.3\n",
      "Episode 68 (199 sec)  -- \tMin Scores: 38.4\tMax Scores: 39.4\tMean Scores: 39.0\tMoving Average: 27.4\n",
      "Episode 69 (198 sec)  -- \tMin Scores: 37.1\tMax Scores: 39.5\tMean Scores: 38.5\tMoving Average: 27.6\n",
      "Episode 70 (199 sec)  -- \tMin Scores: 36.3\tMax Scores: 38.7\tMean Scores: 37.8\tMoving Average: 27.7\n",
      "Episode 71 (206 sec)  -- \tMin Scores: 37.3\tMax Scores: 39.3\tMean Scores: 38.6\tMoving Average: 27.9\n",
      "Episode 72 (225 sec)  -- \tMin Scores: 36.5\tMax Scores: 39.1\tMean Scores: 38.3\tMoving Average: 28.0\n",
      "Episode 73 (213 sec)  -- \tMin Scores: 37.5\tMax Scores: 39.5\tMean Scores: 38.7\tMoving Average: 28.2\n",
      "Episode 74 (206 sec)  -- \tMin Scores: 36.9\tMax Scores: 39.3\tMean Scores: 38.2\tMoving Average: 28.3\n",
      "Episode 75 (214 sec)  -- \tMin Scores: 37.4\tMax Scores: 39.4\tMean Scores: 38.4\tMoving Average: 28.4\n",
      "Episode 76 (215 sec)  -- \tMin Scores: 36.0\tMax Scores: 39.0\tMean Scores: 38.1\tMoving Average: 28.6\n",
      "Episode 77 (221 sec)  -- \tMin Scores: 37.7\tMax Scores: 39.6\tMean Scores: 39.1\tMoving Average: 28.7\n",
      "Episode 78 (221 sec)  -- \tMin Scores: 37.6\tMax Scores: 39.5\tMean Scores: 38.7\tMoving Average: 28.8\n",
      "Episode 79 (215 sec)  -- \tMin Scores: 37.0\tMax Scores: 39.5\tMean Scores: 38.7\tMoving Average: 29.0\n",
      "Episode 80 (223 sec)  -- \tMin Scores: 36.7\tMax Scores: 39.1\tMean Scores: 38.1\tMoving Average: 29.1\n",
      "Episode 81 (217 sec)  -- \tMin Scores: 35.6\tMax Scores: 39.6\tMean Scores: 37.8\tMoving Average: 29.2\n",
      "Episode 82 (221 sec)  -- \tMin Scores: 38.2\tMax Scores: 39.5\tMean Scores: 38.9\tMoving Average: 29.3\n",
      "Episode 83 (211 sec)  -- \tMin Scores: 36.6\tMax Scores: 39.5\tMean Scores: 38.6\tMoving Average: 29.4\n",
      "Episode 84 (211 sec)  -- \tMin Scores: 36.4\tMax Scores: 39.5\tMean Scores: 38.4\tMoving Average: 29.5\n"
     ]
    },
    {
     "name": "stdout",
     "output_type": "stream",
     "text": [
      "Episode 85 (214 sec)  -- \tMin Scores: 36.3\tMax Scores: 39.6\tMean Scores: 38.7\tMoving Average: 29.6\n",
      "Episode 86 (215 sec)  -- \tMin Scores: 36.9\tMax Scores: 39.6\tMean Scores: 38.7\tMoving Average: 29.7\n",
      "Episode 87 (222 sec)  -- \tMin Scores: 35.6\tMax Scores: 39.2\tMean Scores: 37.7\tMoving Average: 29.8\n",
      "Episode 88 (225 sec)  -- \tMin Scores: 37.1\tMax Scores: 39.3\tMean Scores: 38.4\tMoving Average: 29.9\n",
      "Episode 89 (213 sec)  -- \tMin Scores: 36.4\tMax Scores: 39.5\tMean Scores: 38.1\tMoving Average: 30.0\n",
      "Episode 90 (204 sec)  -- \tMin Scores: 35.2\tMax Scores: 39.6\tMean Scores: 37.3\tMoving Average: 30.1\n",
      "Episode 91 (216 sec)  -- \tMin Scores: 36.2\tMax Scores: 39.4\tMean Scores: 38.0\tMoving Average: 30.2\n",
      "Episode 92 (213 sec)  -- \tMin Scores: 34.6\tMax Scores: 38.9\tMean Scores: 37.0\tMoving Average: 30.3\n",
      "Episode 93 (216 sec)  -- \tMin Scores: 32.9\tMax Scores: 38.8\tMean Scores: 36.6\tMoving Average: 30.3\n",
      "Episode 94 (216 sec)  -- \tMin Scores: 36.0\tMax Scores: 39.3\tMean Scores: 38.1\tMoving Average: 30.4\n",
      "Episode 95 (211 sec)  -- \tMin Scores: 36.3\tMax Scores: 39.5\tMean Scores: 38.4\tMoving Average: 30.5\n",
      "Episode 96 (208 sec)  -- \tMin Scores: 34.3\tMax Scores: 38.9\tMean Scores: 37.3\tMoving Average: 30.6\n",
      "Episode 97 (212 sec)  -- \tMin Scores: 36.3\tMax Scores: 39.6\tMean Scores: 38.1\tMoving Average: 30.6\n",
      "Episode 98 (212 sec)  -- \tMin Scores: 36.1\tMax Scores: 39.4\tMean Scores: 38.5\tMoving Average: 30.7\n",
      "Episode 99 (211 sec)  -- \tMin Scores: 34.5\tMax Scores: 39.0\tMean Scores: 37.6\tMoving Average: 30.8\n",
      "Episode 100 (209 sec)  -- \tMin Scores: 35.0\tMax Scores: 39.3\tMean Scores: 37.0\tMoving Average: 30.9\n",
      "\n",
      "Environment SOLVED in 0 episodes!\tMoving Average =30.9 over last 100 episodes\n"
     ]
    }
   ],
   "source": [
    "# run the training loop\n",
    "\n",
    "random_seed = 27\n",
    "train_mode = True\n",
    "agent = Agent(state_size=state_size, action_size=action_size,random_seed=random_seed)\n",
    "scores, averages = ddpg(actor_path='results/results_actor_ckpt.pth', critic_path='results/results_critic_ckpt.pth')"
   ]
  },
  {
   "cell_type": "markdown",
   "metadata": {},
   "source": [
    "### Plot of the learning curve"
   ]
  },
  {
   "cell_type": "code",
   "execution_count": 9,
   "metadata": {},
   "outputs": [
    {
     "data": {
      "image/png": "[encoded data removed]",
      "text/plain": [
       "<Figure size 432x288 with 1 Axes>"
      ]
     },
     "metadata": {
      "needs_background": "light"
     },
     "output_type": "display_data"
    }
   ],
   "source": [
    "# plot the scores\n",
    "fig = plt.figure()\n",
    "ax = fig.add_subplot(111)\n",
    "plt.plot(np.arange(len(scores)), scores, label='DDPG')\n",
    "plt.plot(np.arange(len(scores)), averages, c='r', label='moving avg')\n",
    "plt.ylabel('Score')\n",
    "plt.xlabel('Episode #')\n",
    "plt.legend(loc='upper left');\n",
    "plt.show()"
   ]
  },
  {
   "cell_type": "code",
   "execution_count": null,
   "metadata": {},
   "outputs": [],
   "source": [
    "# Load the saved weights into Pytorch model\n",
    "agent.actor_local.load_state_dict(torch.load('results/results_actor_ckpt.pth', map_location='cpu'))\n",
    "agent.critic_local.load_state_dict(torch.load('results/results_critic_ckpt.pth', map_location='cpu'))\n",
    "\n",
    "env_info = env.reset(train_mode=False)[brain_name]     # reset the environment    \n",
    "states = env_info.vector_observations                  # get the current state (for each agent)\n",
    "scores = np.zeros(num_agents)                          # initialize the score (for each agent)\n",
    "\n",
    "while True:\n",
    "    actions = agent.act(states)                        # select actions from loaded model agent\n",
    "    env_info = env.step(actions)[brain_name]           # send all actions to tne environment\n",
    "    next_states = env_info.vector_observations         # get next state (for each agent)\n",
    "    rewards = env_info.rewards                         # get reward (for each agent)\n",
    "    dones = env_info.local_done                        # see if episode finished\n",
    "    scores += env_info.rewards                         # update the score (for each agent)\n",
    "    states = next_states                               # roll over states to next time step\n",
    "    if np.any(dones):                                  # exit loop if episode finished\n",
    "        break\n",
    "print('Total score: {}'.format(np.mean(scores)))"
   ]
  },
  {
   "cell_type": "code",
   "execution_count": null,
   "metadata": {},
   "outputs": [],
   "source": [
    "# If you get here you have done well!\n",
    "# Now clean up so you don't get into trouble with memory.\n",
    "env.close()"
   ]
  }
 ],
 "metadata": {
  "anaconda-cloud": {},
  "kernelspec": {
   "display_name": "drlnd",
   "language": "python",
   "name": "drlndold"
  },
  "language_info": {
   "codemirror_mode": {
    "name": "ipython",
    "version": 3
   },
   "file_extension": ".py",
   "mimetype": "text/x-python",
   "name": "python",
   "nbconvert_exporter": "python",
   "pygments_lexer": "ipython3",
   "version": "3.6.8"
  }
 },
 "nbformat": 4,
 "nbformat_minor": 2
}
